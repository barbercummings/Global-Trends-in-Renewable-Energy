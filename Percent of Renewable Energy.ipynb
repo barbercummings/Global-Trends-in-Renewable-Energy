{
 "cells": [
  {
   "cell_type": "code",
   "execution_count": 1,
   "metadata": {},
   "outputs": [],
   "source": [
    "# importing libraries\n",
    "import matplotlib.pyplot as plt\n",
    "import pandas as pd\n",
    "import numpy as np\n",
    "import requests"
   ]
  },
  {
   "cell_type": "code",
   "execution_count": 2,
   "metadata": {},
   "outputs": [],
   "source": [
    "# storing url for renewable energy\n",
    "renew_energy_url = \"https://api.worldbank.org/v2/en/country/all/indicator/EG.FEC.RNEW.ZS?format=json&per_page=20000&source=2\""
   ]
  },
  {
   "cell_type": "code",
   "execution_count": 3,
   "metadata": {},
   "outputs": [],
   "source": [
    "# getting as json and checking out where everything is in dictionary, list, etc.\n",
    "renew_energy_response = requests.get(renew_energy_url).json()\n",
    "reo = renew_energy_response[1]"
   ]
  },
  {
   "cell_type": "code",
   "execution_count": 4,
   "metadata": {},
   "outputs": [
    {
     "data": {
      "text/html": [
       "<div>\n",
       "<style scoped>\n",
       "    .dataframe tbody tr th:only-of-type {\n",
       "        vertical-align: middle;\n",
       "    }\n",
       "\n",
       "    .dataframe tbody tr th {\n",
       "        vertical-align: top;\n",
       "    }\n",
       "\n",
       "    .dataframe thead th {\n",
       "        text-align: right;\n",
       "    }\n",
       "</style>\n",
       "<table border=\"1\" class=\"dataframe\">\n",
       "  <thead>\n",
       "    <tr style=\"text-align: right;\">\n",
       "      <th></th>\n",
       "      <th>Country</th>\n",
       "      <th>Year</th>\n",
       "      <th>alpha3code</th>\n",
       "      <th>Percent Renewable</th>\n",
       "    </tr>\n",
       "  </thead>\n",
       "  <tbody>\n",
       "    <tr>\n",
       "      <th>2776</th>\n",
       "      <td>Afghanistan</td>\n",
       "      <td>2015</td>\n",
       "      <td>AFG</td>\n",
       "      <td>18.423477</td>\n",
       "    </tr>\n",
       "    <tr>\n",
       "      <th>2777</th>\n",
       "      <td>Afghanistan</td>\n",
       "      <td>2014</td>\n",
       "      <td>AFG</td>\n",
       "      <td>19.314269</td>\n",
       "    </tr>\n",
       "    <tr>\n",
       "      <th>2778</th>\n",
       "      <td>Afghanistan</td>\n",
       "      <td>2013</td>\n",
       "      <td>AFG</td>\n",
       "      <td>16.334293</td>\n",
       "    </tr>\n",
       "    <tr>\n",
       "      <th>2779</th>\n",
       "      <td>Afghanistan</td>\n",
       "      <td>2012</td>\n",
       "      <td>AFG</td>\n",
       "      <td>13.973586</td>\n",
       "    </tr>\n",
       "    <tr>\n",
       "      <th>2780</th>\n",
       "      <td>Afghanistan</td>\n",
       "      <td>2011</td>\n",
       "      <td>AFG</td>\n",
       "      <td>11.482706</td>\n",
       "    </tr>\n",
       "  </tbody>\n",
       "</table>\n",
       "</div>"
      ],
      "text/plain": [
       "          Country  Year alpha3code  Percent Renewable\n",
       "2776  Afghanistan  2015        AFG          18.423477\n",
       "2777  Afghanistan  2014        AFG          19.314269\n",
       "2778  Afghanistan  2013        AFG          16.334293\n",
       "2779  Afghanistan  2012        AFG          13.973586\n",
       "2780  Afghanistan  2011        AFG          11.482706"
      ]
     },
     "execution_count": 4,
     "metadata": {},
     "output_type": "execute_result"
    }
   ],
   "source": [
    "# building percent of renewable energy dataframe \n",
    "#starting with country\n",
    "country = [reo[i]['country']['value'] for i in range(len(reo))]\n",
    "df = pd.DataFrame({'Country':country})\n",
    "\n",
    "# adding year column to dataframe\n",
    "year= [reo[i]['date'] for i in range(len(reo))]\n",
    "df[\"Year\"]= year\n",
    "\n",
    "# adding alphacode column to dataframe\n",
    "a_code = [reo[i]['countryiso3code'] for i in range(len(reo))]\n",
    "df[\"alpha3code\"]= a_code\n",
    "\n",
    "# adding Percent Renewable value to dataframe\n",
    "percent_renewable = [reo[i]['value'] for i in range(len(reo))]\n",
    "df[\"Percent Renewable\"]= percent_renewable\n",
    "\n",
    "# dropping rows with blank alphacodes - maybe this will do the trick to remove all \"non-countries\"\n",
    "df = df[df.alpha3code != \"\"]\n",
    "\n",
    "# reomving all nan values for percent renewable\n",
    "df = df[np.isfinite(df['Percent Renewable'])]\n",
    "df.head()"
   ]
  }
 ],
 "metadata": {
  "kernelspec": {
   "display_name": "Python 3",
   "language": "python",
   "name": "python3"
  },
  "language_info": {
   "codemirror_mode": {
    "name": "ipython",
    "version": 3
   },
   "file_extension": ".py",
   "mimetype": "text/x-python",
   "name": "python",
   "nbconvert_exporter": "python",
   "pygments_lexer": "ipython3",
   "version": "3.6.8"
  }
 },
 "nbformat": 4,
 "nbformat_minor": 2
}
