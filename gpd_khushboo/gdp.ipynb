{
 "cells": [
  {
   "cell_type": "code",
   "execution_count": 145,
   "metadata": {},
   "outputs": [],
   "source": [
    "# Dependencies\n",
    "import pandas as pd\n",
    "import numpy as np"
   ]
  },
  {
   "cell_type": "code",
   "execution_count": 146,
   "metadata": {},
   "outputs": [],
   "source": [
    "# Name of the CSV file\n",
    "file = 'gdp.csv'\n",
    "gdp_df = pd.read_csv(file)\n",
    "#gdp_df.head()\n",
    "#df.count()\n"
   ]
  },
  {
   "cell_type": "code",
   "execution_count": 147,
   "metadata": {},
   "outputs": [],
   "source": [
    "gdp_df.drop(['1960', '1961','1962','1963','1964',\n",
    "         '1965', '1966','1967', '1968','1969',\n",
    "         '1970','1971','1972', '1973','1974',\n",
    "         '1975','1976','1977','1978','1979',\n",
    "         '1980','1981','1982','1983','1984',\n",
    "         '1985','1986', '1987','1988','1989',\n",
    "         '1990', '1991','1992','1993','1994',\n",
    "         '1995', '1996','1997','1998','1999',\n",
    "         '2016','2017','2018'], axis=1, inplace=True)\n",
    "\n",
    "#gdp_df.head()\n"
   ]
  },
  {
   "cell_type": "code",
   "execution_count": 148,
   "metadata": {},
   "outputs": [],
   "source": [
    "del gdp_df['Indicator Code']\n",
    "         "
   ]
  },
  {
   "cell_type": "code",
   "execution_count": 149,
   "metadata": {},
   "outputs": [],
   "source": [
    "del gdp_df['Indicator Name']"
   ]
  },
  {
   "cell_type": "code",
   "execution_count": 150,
   "metadata": {},
   "outputs": [],
   "source": [
    "df_new = gdp_df.dropna(how='any')\n",
    "#df_new"
   ]
  },
  {
   "cell_type": "code",
   "execution_count": 151,
   "metadata": {
    "scrolled": true
   },
   "outputs": [],
   "source": [
    "df_new_1 =pd.melt(df_new, id_vars=['Country Name','Country Code'],value_vars=['2000', '2001', '2002', '2003', '2004', '2005',\n",
    "                                                                      '2006', '2007', '2008', '2009', '2010', '2011',\n",
    "                                                                      '2012', '2013', '2014', '2015'])\n",
    "\n",
    "\n",
    "\n",
    "\n",
    "\n",
    "#df_new_1"
   ]
  },
  {
   "cell_type": "code",
   "execution_count": 152,
   "metadata": {},
   "outputs": [],
   "source": [
    "df_new_1.drop( df_new_1[df_new_1 ['value'] == 0.000000 ].index , inplace=True)\n",
    "\n",
    "#df_new_1\n"
   ]
  },
  {
   "cell_type": "code",
   "execution_count": 153,
   "metadata": {},
   "outputs": [],
   "source": [
    "df2 = df_new_1.rename({'value': 'GDP_value'}, axis=1)\n",
    "#df2\n",
    "df3 = df2.rename({'variable': 'year'}, axis=1)\n",
    "#df3"
   ]
  },
  {
   "cell_type": "code",
   "execution_count": 154,
   "metadata": {},
   "outputs": [],
   "source": [
    "df3.to_csv(\"Output/gdp_cleaned_final.csv\", index=False, header=True)"
   ]
  },
  {
   "cell_type": "code",
   "execution_count": null,
   "metadata": {},
   "outputs": [],
   "source": []
  }
 ],
 "metadata": {
  "kernelspec": {
   "display_name": "Python 3",
   "language": "python",
   "name": "python3"
  },
  "language_info": {
   "codemirror_mode": {
    "name": "ipython",
    "version": 3
   },
   "file_extension": ".py",
   "mimetype": "text/x-python",
   "name": "python",
   "nbconvert_exporter": "python",
   "pygments_lexer": "ipython3",
   "version": "3.7.3"
  }
 },
 "nbformat": 4,
 "nbformat_minor": 2
}
